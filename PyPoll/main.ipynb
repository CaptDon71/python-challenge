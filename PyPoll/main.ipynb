{
 "cells": [
  {
   "cell_type": "code",
   "execution_count": 9,
   "id": "becae99f-f6ce-480e-9d21-27c537909ac9",
   "metadata": {},
   "outputs": [],
   "source": [
    "# PyPoll Challenge\n",
    "import os\n",
    "import csv"
   ]
  },
  {
   "cell_type": "code",
   "execution_count": 11,
   "id": "8747cd70-3cc4-4761-9d13-c4b089537a1f",
   "metadata": {},
   "outputs": [],
   "source": [
    "# Determine files to read and write \n",
    "file_to_load = os.path.join(\"Resources\", \"election_data.csv\")\n",
    "file_to_write = os.path.join(\"analysis\", \"election_analysis.txt\")"
   ]
  },
  {
   "cell_type": "code",
   "execution_count": 13,
   "id": "02e94da5-1a01-4354-94a9-ce1447f51c82",
   "metadata": {},
   "outputs": [],
   "source": [
    "# Declare variables\n",
    "candidates = {}\n",
    "total_votes = 0\n",
    "winner = \"\""
   ]
  },
  {
   "cell_type": "code",
   "execution_count": 15,
   "id": "1a1ec0db-8b2f-4222-a91d-28d8cf903924",
   "metadata": {},
   "outputs": [],
   "source": [
    "# Read csv and convert into lists of dictionaries\n",
    "with open(file_to_load) as election_data:\n",
    "    reader = csv.reader(election_data)\n",
    "    # Read header\n",
    "    header = next(reader)\n",
    "    # With remaining rows, create a dictionary list \n",
    "    # Parse rows and count votes\n",
    "    for row in reader:\n",
    "        candidate_name = row[2]  # Get the candidate's name from each row\n",
    "        if candidate_name in candidates:\n",
    "            candidates[candidate_name] += 1  # Increment vote count if the candidate is already in dictionary\n",
    "        else:\n",
    "            candidates[candidate_name] = 1   # Initialize vote count if the candidate is not in dictionary\n",
    "\n",
    "# Calculate total votes\n",
    "total_votes = sum(candidates.values())\n",
    "\n",
    "# Determine the winner\n",
    "winner = max(candidates, key=candidates.get)"
   ]
  },
  {
   "cell_type": "code",
   "execution_count": 17,
   "id": "8dd591a0-4ce5-44d5-8da4-c7f4afee35b8",
   "metadata": {},
   "outputs": [
    {
     "name": "stdout",
     "output_type": "stream",
     "text": [
      "Election Results\n",
      "-------------------------\n",
      "Total Votes: 369711\n",
      "-------------------------\n",
      "Charles Casper Stockham: 23.049% (85213)\n",
      "Diana DeGette: 73.812% (272892)\n",
      "Raymon Anthony Doane: 3.139% (11606)\n",
      "-------------------------\n",
      "Winner: Diana DeGette\n",
      "-------------------------\n",
      "\n"
     ]
    }
   ],
   "source": [
    "# Create a reuseable multiline string variable\n",
    "results = (\n",
    "    \"Election Results\\n\"\n",
    "    \"-------------------------\\n\"\n",
    "    f\"Total Votes: {total_votes}\\n\"\n",
    "    \"-------------------------\\n\"\n",
    ")\n",
    "\n",
    "# Calculate and add each candidate's percentage and vote count\n",
    "for candidate, votes in candidates.items():\n",
    "    percentage = (votes / total_votes) * 100\n",
    "    results += f\"{candidate}: {percentage:.3f}% ({votes})\\n\"\n",
    "\n",
    "results += \"-------------------------\\n\"\n",
    "results += f\"Winner: {winner}\\n\"\n",
    "results += \"-------------------------\\n\"\n",
    "\n",
    "# Print the results to the terminal\n",
    "print(results)\n",
    "\n",
    "# Export the results to a text file\n",
    "with open(file_to_write, \"w\") as file:\n",
    "    file.write(results)"
   ]
  },
  {
   "cell_type": "code",
   "execution_count": null,
   "id": "b6843215-c4c2-4d3c-8397-784360e9f24a",
   "metadata": {},
   "outputs": [],
   "source": []
  }
 ],
 "metadata": {
  "kernelspec": {
   "display_name": "Python 3 (ipykernel)",
   "language": "python",
   "name": "python3"
  },
  "language_info": {
   "codemirror_mode": {
    "name": "ipython",
    "version": 3
   },
   "file_extension": ".py",
   "mimetype": "text/x-python",
   "name": "python",
   "nbconvert_exporter": "python",
   "pygments_lexer": "ipython3",
   "version": "3.12.4"
  }
 },
 "nbformat": 4,
 "nbformat_minor": 5
}
