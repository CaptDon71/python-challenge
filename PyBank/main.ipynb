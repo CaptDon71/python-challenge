{
 "cells": [
  {
   "cell_type": "code",
   "execution_count": 1,
   "id": "becae99f-f6ce-480e-9d21-27c537909ac9",
   "metadata": {},
   "outputs": [],
   "source": [
    "# PyBank Challenge\n",
    "import csv\n",
    "import os"
   ]
  },
  {
   "cell_type": "code",
   "execution_count": 2,
   "id": "8747cd70-3cc4-4761-9d13-c4b089537a1f",
   "metadata": {},
   "outputs": [],
   "source": [
    "# Detremine files to read and write \n",
    "file_to_load = os.path.join(\"Resources\", \"budget_data.csv\")\n",
    "file_to_write = os.path.join(\"analysis\", \"budget_analysis.txt\")"
   ]
  },
  {
   "cell_type": "code",
   "execution_count": 5,
   "id": "02e94da5-1a01-4354-94a9-ce1447f51c82",
   "metadata": {},
   "outputs": [],
   "source": [
    "# declare variables\n",
    "data = []\n",
    "changes = []\n",
    "total_months = 0\n",
    "greatest_increase = [\"\", 0]\n",
    "greatest_decrease = [\"\", 9999999999999999999999]\n",
    "total_net = 0"
   ]
  },
  {
   "cell_type": "code",
   "execution_count": 6,
   "id": "1a1ec0db-8b2f-4222-a91d-28d8cf903924",
   "metadata": {},
   "outputs": [],
   "source": [
    "# read csv and convert into lists of dictionaries\n",
    "with open(file_to_load) as finanical_data:\n",
    "    reader = csv.reader(finanical_data)\n",
    "    # read header\n",
    "    header = next(reader)\n",
    "    # Create a list of tuples [0], [1] showing (date, profit/losses)\n",
    "    for row in reader:\n",
    "        data.append(row)\n",
    "\n"
   ]
  },
  {
   "cell_type": "code",
   "execution_count": 7,
   "id": "8dd591a0-4ce5-44d5-8da4-c7f4afee35b8",
   "metadata": {},
   "outputs": [],
   "source": [
    "# Convert Profit/Losses values to integers\n",
    "for record in data:\n",
    "    record[1] = int(record[1])\n",
    "\n",
    "# Calculate the total number of months\n",
    "total_months = len(data)\n",
    "\n",
    "# Calculate the total amount of \"Profit/Losses\"\n",
    "total_net = sum(record[1] for record in data)\n",
    "\n",
    "# Calculate the changes in \"Profit/Losses\"\n",
    "\n",
    "for i in range(1, total_months):\n",
    "    change = data[i][1] - data[i - 1][1]\n",
    "    changes.append(change)\n",
    "\n",
    "# Calculate the average of those changes\n",
    "average_change = sum(changes) / len(changes)\n",
    "\n",
    "# Find the greatest increase in profits\n",
    "greatest_increase = max(changes)\n",
    "greatest_increase_index = changes.index(greatest_increase) + 1  # offset to compare changes\n",
    "greatest_increase_date = data[greatest_increase_index][0]\n",
    "\n",
    "# Find the greatest decrease in profits\n",
    "greatest_decrease = min(changes)\n",
    "greatest_decrease_index = changes.index(greatest_decrease) + 1  # offset to compare changes\n",
    "greatest_decrease_date = data[greatest_decrease_index][0]\n"
   ]
  },
  {
   "cell_type": "code",
   "execution_count": 8,
   "id": "e2484dc0-e34f-4128-a371-927f2e96e0ec",
   "metadata": {},
   "outputs": [
    {
     "name": "stdout",
     "output_type": "stream",
     "text": [
      "Financial Analysis\n",
      "----------------------------\n",
      "Total Months: 86\n",
      "Net Total Profit/Losses: $22564198\n",
      "Average Change: $-8311.11\n",
      "Greatest Increase in Profits: Aug-16 ($1862002)\n",
      "Greatest Decrease in Profits: Feb-14 ($-1825558)\n",
      "\n"
     ]
    }
   ],
   "source": [
    "# Create a reuseable multiline string variable\n",
    "results = (\n",
    "    f\"Financial Analysis\\n\"\n",
    "    f\"----------------------------\\n\"\n",
    "    f\"Total Months: {total_months}\\n\"\n",
    "    f\"Net Total Profit/Losses: ${total_net}\\n\"\n",
    "    f\"Average Change: ${average_change:.2f}\\n\"\n",
    "    f\"Greatest Increase in Profits: {greatest_increase_date} (${greatest_increase})\\n\"\n",
    "    f\"Greatest Decrease in Profits: {greatest_decrease_date} (${greatest_decrease})\\n\"\n",
    ")\n",
    "\n",
    "# Print the results to terminal\n",
    "print(results)\n",
    "\n",
    "# Export the results to a text file\n",
    "with open(file_to_write, 'w') as file:\n",
    "    file.write(results)\n"
   ]
  }
 ],
 "metadata": {
  "kernelspec": {
   "display_name": "Python 3 (ipykernel)",
   "language": "python",
   "name": "python3"
  },
  "language_info": {
   "codemirror_mode": {
    "name": "ipython",
    "version": 3
   },
   "file_extension": ".py",
   "mimetype": "text/x-python",
   "name": "python",
   "nbconvert_exporter": "python",
   "pygments_lexer": "ipython3",
   "version": "3.12.4"
  }
 },
 "nbformat": 4,
 "nbformat_minor": 5
}
